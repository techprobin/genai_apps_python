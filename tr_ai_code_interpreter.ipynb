!pip install -U pip

#Tr AI Code Interpreter

# Execute LLM-generated code seamlessly with a simple API call.

!pip install -U together

from together import Together

from google.colab import userdata

client = Together(api_key=userdata.get("together_api_key"),
                  base_url="https://api.together.xyz/v1") #base url optional

# Run a simple print statement in the code interpreter
response = client.code_interpreter.run(code='print("Welcome to Tr AI Code Interpreter!")', language="python")

print(f"Status: {response.data.status}")

for output in response.data.outputs:
    print(f"{output.type}: {output.data}")

# set a variable x to 42
response1 = client.code_interpreter.run(code="x = 42", language="python")

session_id = response1.data.session_id

# print the value of x
response2 = client.code_interpreter.run(
    code='print(f"The value of x is {x}")', language="python", session_id=session_id
)

for output in response2.data.outputs:
    print(f"{output.type}: {output.data}")

# Create a code interpreter instance
code_interpreter = client.code_interpreter

code = '''
!pip install -U numpy
import numpy as np

# Create a random matrix
matrix = np.random.rand(3, 3)
print("Random matrix:")
print(matrix)

# Calculate eigenvalues
eigenvalues = np.linalg.eigvals(matrix)
print("\\nEigenvalues:")
print(eigenvalues)
'''

response = code_interpreter.run(
  	code=code,
    language="python"
)

for output in response.data.outputs:
    print(f"{output.type}: {output.data}")
if response.data.errors:
    print(f"Errors: {response.data.errors}")  

# Create a code interpreter instance
code_interpreter = client.code_interpreter

script_content = "import sys\nprint(f'Hello from inside {sys.argv[0]}!')"

# Define the script file as a dictionary
script_file = {
    "name": "myscript.py",
    "encoding": "string",
    "content": script_content,
}

code_to_run_script = "!python myscript.py"

response = code_interpreter.run(
    code=code_to_run_script,
    language="python",
    files=[script_file],  # Pass the script dictionary in a list
)

# Print results
print(f"Status: {response.data.status}")
for output in response.data.outputs:
    print(f"{output.type}: {output.data}")
if response.data.errors:
    print(f"Errors: {response.data.errors}")
